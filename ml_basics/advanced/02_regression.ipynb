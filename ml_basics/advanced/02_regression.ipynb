{
 "cells": [
  {
   "cell_type": "markdown",
   "metadata": {},
   "source": [
    "# Regression\n",
    "\n",
    "A regression is a predictive model that looks for a functional relationship between a set of variables (X) and a continuous outcome variable (y).\n",
    "\n",
    "In other word, given an input array we try to predict a numerical value."
   ]
  },
  {
   "cell_type": "code",
   "execution_count": null,
   "metadata": {
    "collapsed": true
   },
   "outputs": [],
   "source": [
    "import numpy as np\n",
    "import pandas as pd\n",
    "import matplotlib.pyplot as plt\n",
    "%matplotlib inline"
   ]
  },
  {
   "cell_type": "markdown",
   "metadata": {},
   "source": [
    "## Weight - Height dataset"
   ]
  },
  {
   "cell_type": "code",
   "execution_count": null,
   "metadata": {
    "collapsed": false
   },
   "outputs": [],
   "source": [
    "df = pd.read_csv('../data/weight-height.csv')"
   ]
  },
  {
   "cell_type": "code",
   "execution_count": null,
   "metadata": {
    "collapsed": false
   },
   "outputs": [],
   "source": [
    "df.head()"
   ]
  },
  {
   "cell_type": "markdown",
   "metadata": {},
   "source": [
    "### Visualize the dataset"
   ]
  },
  {
   "cell_type": "code",
   "execution_count": null,
   "metadata": {
    "collapsed": false
   },
   "outputs": [],
   "source": [
    "plt.figure(figsize=(15,10))\n",
    "plt.scatter(df['Height'], df['Weight'], alpha = 0.2)\n",
    "plt.title('Humans', size=20)\n",
    "plt.xlabel('Height (in)', size=20)\n",
    "plt.ylabel('Weight (lbs)', size=20)"
   ]
  },
  {
   "cell_type": "markdown",
   "metadata": {},
   "source": [
    "## Visualize male and female populations\n",
    "\n",
    "This could be done in many ways, below are two examples."
   ]
  },
  {
   "cell_type": "code",
   "execution_count": null,
   "metadata": {
    "collapsed": false
   },
   "outputs": [],
   "source": [
    "# males = df[df['Gender'] == 'Male']\n",
    "# females = df[df['Gender'] == 'Female']\n",
    "\n",
    "males = df.query('Gender == \"Male\"')\n",
    "females = df.query('Gender == \"Female\"')\n",
    "\n",
    "plt.figure(figsize=(15,10))\n",
    "plt.scatter(males['Height'], males['Weight'], alpha = 0.3, label = 'males', c = 'c')\n",
    "plt.scatter(females['Height'], females['Weight'], alpha = 0.3, label = 'females', c = 'pink')\n",
    "plt.title('Humans', size = 20)\n",
    "plt.xlabel('Height (in)', size = 20)\n",
    "plt.ylabel('Weight (lbs)', size = 20)\n",
    "plt.legend()"
   ]
  },
  {
   "cell_type": "markdown",
   "metadata": {},
   "source": [
    "## Linear regression\n",
    "\n",
    "Linear regression is the simplest functional form that one can imagine, where outcome and input are proportional to one another.\n",
    "\n",
    "$$\n",
    "y = \\alpha + \\beta x\n",
    "$$"
   ]
  },
  {
   "cell_type": "code",
   "execution_count": null,
   "metadata": {
    "collapsed": true
   },
   "outputs": [],
   "source": [
    "from sklearn.linear_model import LinearRegression"
   ]
  },
  {
   "cell_type": "code",
   "execution_count": null,
   "metadata": {
    "collapsed": false
   },
   "outputs": [],
   "source": [
    "# create instance of linear regression class\n",
    "regr = LinearRegression()\n",
    "\n",
    "# what's the purpose of the next line?\n",
    "# try to print out df['Height'].values and x\n",
    "# to figure it out\n",
    "x = df['Height'].values[:,np.newaxis]\n",
    "\n",
    "y = df['Weight']\n",
    "\n",
    "# split data in 2 parts (20% test / 80% train)\n",
    "l = len(y)\n",
    "ind = range(l)\n",
    "np.random.shuffle(ind)\n",
    "test_ind = ind[:l/5]\n",
    "train_ind = ind[l/5:]\n",
    "\n",
    "x_train = x[train_ind]\n",
    "x_test  = x[test_ind]\n",
    "y_train = y[train_ind]\n",
    "y_test  = y[test_ind]\n",
    "\n",
    "\n",
    "regr.fit(x_train, y_train)"
   ]
  },
  {
   "cell_type": "code",
   "execution_count": null,
   "metadata": {
    "collapsed": false
   },
   "outputs": [],
   "source": [
    "# The coefficients\n",
    "print \"Slope: %.2f\" % regr.coef_\n",
    "print \"Intercept: %.2f\" % regr.intercept_"
   ]
  },
  {
   "cell_type": "code",
   "execution_count": null,
   "metadata": {
    "collapsed": false
   },
   "outputs": [],
   "source": [
    "# The mean square error\n",
    "print(\"Residual sum of squares: %.2f\"\n",
    "      % np.mean((regr.predict(x_test) - y_test) ** 2))"
   ]
  },
  {
   "cell_type": "code",
   "execution_count": null,
   "metadata": {
    "collapsed": false
   },
   "outputs": [],
   "source": [
    "# Explained variance score: 1 is perfect prediction\n",
    "print('Variance score: %.2f' % regr.score(x_test, y_test))"
   ]
  },
  {
   "cell_type": "code",
   "execution_count": null,
   "metadata": {
    "collapsed": false
   },
   "outputs": [],
   "source": [
    "plt.scatter(x_test, y_test)\n",
    "plt.plot(x_test, regr.predict(x_test), color = 'red')\n",
    "plt.title('Humans')\n",
    "plt.xlabel('Height (in)')\n",
    "plt.ylabel('Weight (lbs)')\n"
   ]
  },
  {
   "cell_type": "markdown",
   "metadata": {},
   "source": [
    "## Housing prices dataset\n",
    "\n",
    "This dataset contains multiple columns:\n",
    "- sqft\n",
    "- bdrms\n",
    "- age\n",
    "- price\n",
    "\n",
    "Our goal is to build a model of price as a function of the other house attributes."
   ]
  },
  {
   "cell_type": "code",
   "execution_count": null,
   "metadata": {
    "collapsed": false
   },
   "outputs": [],
   "source": [
    "df = pd.read_csv('../data/housing-data.csv')"
   ]
  },
  {
   "cell_type": "code",
   "execution_count": null,
   "metadata": {
    "collapsed": false
   },
   "outputs": [],
   "source": [
    "df.head()"
   ]
  },
  {
   "cell_type": "markdown",
   "metadata": {},
   "source": [
    "### Scatter matrix\n",
    "The scatter matrix gives us an intuitive idea of how each variable is distributed and correlated to the other variables."
   ]
  },
  {
   "cell_type": "code",
   "execution_count": null,
   "metadata": {
    "collapsed": true
   },
   "outputs": [],
   "source": [
    "from pandas.tools.plotting import scatter_matrix"
   ]
  },
  {
   "cell_type": "code",
   "execution_count": null,
   "metadata": {
    "collapsed": false
   },
   "outputs": [],
   "source": [
    "_  = scatter_matrix(df, alpha=0.2, figsize=(8, 8))"
   ]
  },
  {
   "cell_type": "markdown",
   "metadata": {},
   "source": [
    "Question: Is any trend apparent from the figure above?"
   ]
  },
  {
   "cell_type": "markdown",
   "metadata": {},
   "source": [
    "## Linear regression (multiple variables)\n",
    "\n",
    "$$\n",
    "y = \\alpha + \\beta_0 x_0 + \\beta_1 x_1 + ...\n",
    "$$"
   ]
  },
  {
   "cell_type": "code",
   "execution_count": null,
   "metadata": {
    "collapsed": true
   },
   "outputs": [],
   "source": [
    "regr = LinearRegression()"
   ]
  },
  {
   "cell_type": "code",
   "execution_count": null,
   "metadata": {
    "collapsed": false
   },
   "outputs": [],
   "source": [
    "# why do I not need to add an axis in this case?\n",
    "X = df[['sqft', 'bdrms', 'age']]\n",
    "y = df['price']"
   ]
  },
  {
   "cell_type": "code",
   "execution_count": null,
   "metadata": {
    "collapsed": false
   },
   "outputs": [],
   "source": [
    "regr.fit(X, y)"
   ]
  },
  {
   "cell_type": "code",
   "execution_count": null,
   "metadata": {
    "collapsed": false
   },
   "outputs": [],
   "source": [
    "# the coef_ attribute is now an array of coefficients\n",
    "regr.coef_"
   ]
  },
  {
   "cell_type": "code",
   "execution_count": null,
   "metadata": {
    "collapsed": false
   },
   "outputs": [],
   "source": [
    "regr.intercept_"
   ]
  },
  {
   "cell_type": "code",
   "execution_count": null,
   "metadata": {
    "collapsed": false
   },
   "outputs": [],
   "source": [
    "regr.score(X, y)"
   ]
  },
  {
   "cell_type": "code",
   "execution_count": null,
   "metadata": {
    "collapsed": false
   },
   "outputs": [],
   "source": [
    "regr.predict([[2000, 3, 20]])"
   ]
  },
  {
   "cell_type": "markdown",
   "metadata": {},
   "source": [
    "## Nonlinear regression\n",
    "\n",
    "Nonlinear regression is used when the functional relationship between input and output is more complex than a simple proportion rule.\n",
    "\n",
    "What we do in this case is to create a linear combination of polynomial features, i.e. functions of higher powers of the input.\n",
    "\n",
    "$$\n",
    "y = \\alpha + \\beta_1 f(x) + \\beta_2 f(x^2) + ... + \\beta_n f(x^n)\n",
    "$$"
   ]
  },
  {
   "cell_type": "code",
   "execution_count": null,
   "metadata": {
    "collapsed": false
   },
   "outputs": [],
   "source": [
    "df = pd.read_json('../data/xy-regression.json')\n",
    "line = pd.read_csv('../data/xy-function.csv')"
   ]
  },
  {
   "cell_type": "code",
   "execution_count": null,
   "metadata": {
    "collapsed": false
   },
   "outputs": [],
   "source": [
    "plt.figure(figsize=(11,7))\n",
    "plt.scatter(df.x, df.y, label=\"training points\")\n",
    "plt.xlabel('x', size = 20)\n",
    "plt.ylabel('y', size = 20)"
   ]
  },
  {
   "cell_type": "code",
   "execution_count": null,
   "metadata": {
    "collapsed": false
   },
   "outputs": [],
   "source": [
    "plt.scatter(df.x, df.y, label=\"training points\")\n",
    "plt.plot(line.x, line.y, label = \"ground truth\")\n",
    "\n",
    "plt.legend(loc = 'best')"
   ]
  },
  {
   "cell_type": "code",
   "execution_count": null,
   "metadata": {
    "collapsed": false
   },
   "outputs": [],
   "source": [
    "from sklearn.preprocessing import PolynomialFeatures\n",
    "\n",
    "\n",
    "# convenient function that allows us to specify\n",
    "# the maximum degree of polynomial features\n",
    "# we intend to use\n",
    "def poly_fit(degree = 3):\n",
    "    poly = PolynomialFeatures(degree=degree)\n",
    "    X_ = poly.fit_transform(df.x.values[:, np.newaxis])\n",
    "    line_ = poly.fit_transform(line.x.values[:, np.newaxis])\n",
    "    clf = LinearRegression()\n",
    "    clf.fit(X_, df.y)\n",
    "    return clf, line_"
   ]
  },
  {
   "cell_type": "code",
   "execution_count": null,
   "metadata": {
    "collapsed": false
   },
   "outputs": [],
   "source": [
    "plt.figure(figsize=(11,7))\n",
    "\n",
    "plt.scatter(df.x, df.y, label=\"training points\")\n",
    "plt.plot(line.x, line.y, label = \"ground truth\")\n",
    "\n",
    "\n",
    "poly4, line_ = poly_fit(4)\n",
    "plt.plot(line.x, poly4.predict(line_), label = \"4th deg poly\")\n",
    "\n",
    "poly5, line_ = poly_fit(5)\n",
    "plt.plot(line.x, poly5.predict(line_), label = \"5th deg poly\")\n",
    "\n",
    "plt.xlabel('x', size = 20)\n",
    "plt.ylabel('y', size = 20)\n",
    "plt.legend(loc = 'best')"
   ]
  },
  {
   "cell_type": "markdown",
   "metadata": {
    "collapsed": true
   },
   "source": [
    "Exercises\n",
    "\n",
    "1)\n",
    "- repeat the regression tasks with Ridge or Lasso regression (http://scikit-learn.org/stable/modules/linear_model.html)\n",
    "- what changes?\n",
    "\n",
    "2)\n",
    "- load a different dataset and explore linear relations among features"
   ]
  },
  {
   "cell_type": "markdown",
   "metadata": {},
   "source": [
    "*Copyright &copy; 2015 Dataweekends.  All rights reserved.*"
   ]
  }
 ],
 "metadata": {
  "anaconda-cloud": {},
  "kernelspec": {
   "display_name": "Python 2",
   "language": "python",
   "name": "python2"
  },
  "language_info": {
   "codemirror_mode": {
    "name": "ipython",
    "version": 2
   },
   "file_extension": ".py",
   "mimetype": "text/x-python",
   "name": "python",
   "nbconvert_exporter": "python",
   "pygments_lexer": "ipython2",
   "version": "2.7.13"
  }
 },
 "nbformat": 4,
 "nbformat_minor": 0
}
