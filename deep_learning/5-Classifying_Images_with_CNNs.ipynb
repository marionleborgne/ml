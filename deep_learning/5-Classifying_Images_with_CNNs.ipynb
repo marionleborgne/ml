{
 "cells": [
  {
   "cell_type": "markdown",
   "metadata": {},
   "source": [
    "# Classifying Images with CNNs\n",
    "\n",
    "In this exercise you will design a Convolutional Neural Network (CNN) for MNIST. CNNs are the workhorses of modern computer vision."
   ]
  },
  {
   "cell_type": "code",
   "execution_count": 2,
   "metadata": {},
   "outputs": [
    {
     "name": "stdout",
     "output_type": "stream",
     "text": [
      "\n"
     ]
    }
   ],
   "source": [
    "%matplotlib inline\n",
    "\n",
    "import matplotlib.pyplot as plt\n",
    "import numpy as np\n",
    "\n",
    "from keras.datasets import mnist\n",
    "from keras.models import Sequential\n",
    "from keras.optimizers import SGD, RMSprop\n",
    "from keras.utils import np_utils"
   ]
  },
  {
   "cell_type": "markdown",
   "metadata": {},
   "source": [
    "## CNN\n",
    "\n",
    "Let's build a convolutional model! For this, we need to have the data in its original shape. Also note that when we reshape the data below, we add a dimension of 1 - this is the number of **channels** in the image, which is just 1 because these are grayscale images. If they were color, this would be 3 for RGB. Make sure you understand how and why we are preparing the data below."
   ]
  },
  {
   "cell_type": "code",
   "execution_count": 3,
   "metadata": {},
   "outputs": [
    {
     "name": "stdout",
     "output_type": "stream",
     "text": [
      "(60000, 28, 28, 1)\n"
     ]
    }
   ],
   "source": [
    "(X_train, y_train), (X_test, y_test) = mnist.load_data()\n",
    "# 28 x 28 image\n",
    "X_train = X_train.reshape(X_train.shape[0], 28, 28, 1)\n",
    "X_test = X_test.reshape(X_test.shape[0], 28, 28, 1)\n",
    "X_train = X_train.astype('float32')\n",
    "X_test = X_test.astype('float32')\n",
    "X_train /= 255\n",
    "X_test /= 255\n",
    "print X_train.shape\n",
    "\n",
    "y_train = np_utils.to_categorical(y_train, 10)\n",
    "y_test = np_utils.to_categorical(y_test, 10)"
   ]
  },
  {
   "cell_type": "markdown",
   "metadata": {},
   "source": [
    "### Exercise 1 - design a CNN for MNIST\n",
    "\n",
    "It is up to you what the model will be. Here are some things you need to decide:\n",
    "* how many convolutional layers?\n",
    "* what spatial size will your convolutions be?\n",
    "* how many channels will your convolutions be?\n",
    "* what nonlinearity will you use?\n",
    "* will you use pooling? what type?\n",
    "* how many fully-connected layers will you have?\n",
    "* will you use dropout?\n",
    "* what batch size?\n",
    "\n",
    "Keras provides a special layer called `Flatten` to flatten the convolutional features into a vector before the fully-connected layers. You should look at the documentation for Keras's convolutional layers: http://keras.io/layers/convolutional/. In particular, you may want to look at `Convolution2D`, `MaxPooling2D`, `AveragePooling2D`, `Flatten`, and `Dropout`. For this problem, you make want to use the `'rmsprop'` optimizer - it is an algorithm that adapts the learning rate during learning for you automatically.\n",
    "\n",
    "Can you get to 98% accuracy? You shouldn't need more than a few epochs to do pretty well.\n",
    "\n",
    "Suggestions:\n",
    "* Try using at least 2 convolutional layers. This should get you off to a good start and it will come in handy later."
   ]
  },
  {
   "cell_type": "code",
   "execution_count": 5,
   "metadata": {},
   "outputs": [
    {
     "name": "stdout",
     "output_type": "stream",
     "text": [
      "input shape (60000, 28, 28, 1)\n",
      "1st CNN layer (None, 28, 28, 10)\n",
      "2nd CNN layer (None, 14, 14, 32)\n",
      "Flattened CNN layer (None, 1568)\n",
      "Train on 48000 samples, validate on 12000 samples\n",
      "Epoch 1/10\n",
      "13s - loss: 0.1879 - acc: 0.9431 - val_loss: 0.0649 - val_acc: 0.9804\n",
      "Epoch 2/10\n",
      "13s - loss: 0.0661 - acc: 0.9795 - val_loss: 0.0550 - val_acc: 0.9842\n",
      "Epoch 3/10\n",
      "15s - loss: 0.0508 - acc: 0.9851 - val_loss: 0.0542 - val_acc: 0.9864\n",
      "Epoch 4/10\n",
      "16s - loss: 0.0406 - acc: 0.9871 - val_loss: 0.0531 - val_acc: 0.9860\n",
      "Epoch 5/10\n",
      "16s - loss: 0.0331 - acc: 0.9900 - val_loss: 0.0572 - val_acc: 0.9853\n",
      "Epoch 6/10\n",
      "15s - loss: 0.0285 - acc: 0.9907 - val_loss: 0.0504 - val_acc: 0.9878\n",
      "Epoch 7/10\n",
      "15s - loss: 0.0239 - acc: 0.9922 - val_loss: 0.0570 - val_acc: 0.9877\n",
      "Epoch 8/10\n",
      "15s - loss: 0.0232 - acc: 0.9930 - val_loss: 0.0557 - val_acc: 0.9887\n",
      "Epoch 9/10\n",
      "15s - loss: 0.0198 - acc: 0.9941 - val_loss: 0.0593 - val_acc: 0.9883\n",
      "Epoch 10/10\n",
      "15s - loss: 0.0178 - acc: 0.9943 - val_loss: 0.0653 - val_acc: 0.9891\n"
     ]
    }
   ],
   "source": [
    "from keras.layers.core import Dense, Dropout, Activation\n",
    "from keras.layers import Convolution2D, MaxPooling2D, AveragePooling2D, Flatten\n",
    "\n",
    "print 'input shape', X_train.shape\n",
    "\n",
    "model = Sequential()\n",
    "\n",
    "# 3x3 convolution on top, with 10  filtera:\n",
    "model.add(Convolution2D(10, 3, 3, border_mode='same', input_shape=(28, 28, 1)))  # tf ordering\n",
    "print '1st CNN layer', model.output_shape \n",
    "\n",
    "model.add(MaxPooling2D())\n",
    "\n",
    "# 3x3 convolution on top, with 32 output filters:\n",
    "model.add(Convolution2D(32, 3, 3, border_mode='same'))\n",
    "print '2nd CNN layer', model.output_shape \n",
    "\n",
    "model.add(MaxPooling2D())\n",
    "\n",
    "model.add(Flatten())\n",
    "print 'Flattened CNN layer', model.output_shape \n",
    "\n",
    "model.add(Dense(100))\n",
    "model.add(Activation('relu'))\n",
    "\n",
    "model.add(Dropout(0.2))\n",
    "model.add(Dense(10))\n",
    "model.add(Activation('softmax'))\n",
    "\n",
    "model.compile(loss='categorical_crossentropy',\n",
    "              optimizer='rmsprop',\n",
    "              metrics=['accuracy'])\n",
    "\n",
    "# Fit your model\n",
    "hist = model.fit(X_train, y_train, validation_split=0.2,  nb_epoch=10, batch_size=32, verbose=2)"
   ]
  },
  {
   "cell_type": "code",
   "execution_count": 6,
   "metadata": {},
   "outputs": [
    {
     "name": "stdout",
     "output_type": "stream",
     "text": [
      "('Test score:', 0.051031891813250602)\n",
      "('Test accuracy:', 0.99019999999999997)\n"
     ]
    }
   ],
   "source": [
    "score = model.evaluate(X_test, y_test, verbose=2)\n",
    "print('Test score:', score[0])\n",
    "print('Test accuracy:', score[1])"
   ]
  },
  {
   "cell_type": "markdown",
   "metadata": {},
   "source": [
    "## Saving a trained model\n",
    "\n",
    "Keras allows you to save and restore models. The model structure can be saved as JSON and the parameters as HDF5. Save your trained model for later:"
   ]
  },
  {
   "cell_type": "code",
   "execution_count": 7,
   "metadata": {},
   "outputs": [],
   "source": [
    "with open('mnist_cnn.json', 'w') as f:\n",
    "    f.write(model.to_json())\n",
    "\n",
    "model.save_weights('mnist_cnn_weights.h5')"
   ]
  }
 ],
 "metadata": {
  "kernelspec": {
   "display_name": "Python 2",
   "language": "python",
   "name": "python2"
  },
  "language_info": {
   "codemirror_mode": {
    "name": "ipython",
    "version": 2.0
   },
   "file_extension": ".py",
   "mimetype": "text/x-python",
   "name": "python",
   "nbconvert_exporter": "python",
   "pygments_lexer": "ipython2",
   "version": "2.7.10"
  }
 },
 "nbformat": 4,
 "nbformat_minor": 0
}