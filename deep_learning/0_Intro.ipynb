{
 "cells": [
  {
   "cell_type": "markdown",
   "metadata": {},
   "source": [
    "# Intro\n",
    "\n",
    "In this lab we will recap some key functionality of Scikit Learn and explore what it means that two classes are linearly separable."
   ]
  },
  {
   "cell_type": "code",
   "execution_count": null,
   "metadata": {
    "collapsed": true
   },
   "outputs": [],
   "source": [
    "# Package imports\n",
    "import numpy as np\n",
    "import matplotlib.pyplot as plt\n",
    "%matplotlib inline"
   ]
  },
  {
   "cell_type": "code",
   "execution_count": null,
   "metadata": {
    "collapsed": false
   },
   "outputs": [],
   "source": [
    "from sklearn.datasets import make_blobs\n",
    "\n",
    "X, y = make_blobs(n_samples=1000,\n",
    "                  centers=[[0.1, 0.1],[0.9, 0.9]],\n",
    "                  cluster_std=0.3,\n",
    "                  n_features=2,\n",
    "                  random_state=0)\n",
    "\n",
    "print 'Vectors: \\n', X[:10]\n",
    "print 'Labels: \\n', y[:10]\n",
    "\n",
    "plt.scatter(X[:,0], X[:,1], c=y, alpha=0.4)\n",
    "plt.plot([-1, 2], [2, -1])\n",
    "plt.xlim(-1, 2)\n",
    "plt.ylim(-1, 2)"
   ]
  },
  {
   "cell_type": "markdown",
   "metadata": {},
   "source": [
    "## Exercise 1:\n",
    "\n",
    "Use your knowledge of scikit-learn to define a Logistic Regression model that separates the two classes and plot its decision boundary using the function below."
   ]
  },
  {
   "cell_type": "code",
   "execution_count": null,
   "metadata": {
    "collapsed": true
   },
   "outputs": [],
   "source": [
    "def plot_decision_boundary(model, X, y):\n",
    "    X_max = X.max(axis=0)\n",
    "    X_min = X.min(axis=0)\n",
    "    xticks = np.linspace(X_min[0], X_max[0], 100)\n",
    "    yticks = np.linspace(X_min[1], X_max[1], 100)\n",
    "    xx, yy = np.meshgrid(xticks, yticks)\n",
    "    ZZ = model.predict(np.c_[xx.ravel(), yy.ravel()])\n",
    "    Z = ZZ >= 0.5\n",
    "    Z = Z.reshape(xx.shape)\n",
    "    fig, ax = plt.subplots()\n",
    "    ax = plt.gca()\n",
    "    ax.contourf(xx, yy, Z, cmap=plt.cm.bwr, alpha=0.2)\n",
    "    ax.scatter(X[:,0], X[:,1], c=y, alpha=0.4)"
   ]
  },
  {
   "cell_type": "code",
   "execution_count": null,
   "metadata": {
    "collapsed": false
   },
   "outputs": [],
   "source": []
  },
  {
   "cell_type": "markdown",
   "metadata": {},
   "source": [
    "## Exercise 2:\n",
    "Ok, that worked! Easy!\n",
    "\n",
    "Now let's make things a little harder.\n",
    "\n",
    "- Try using Logistic regression to separate the data below\n",
    "- Use a 3 fold cross validation to judge the model accuracy\n",
    "- print the mean score and the standard deviation of the score\n",
    "- try changing the value of the parameter C (regularization)\n",
    "\n",
    "Is the score good or bad? Does the decision boundary correctly separate the data?"
   ]
  },
  {
   "cell_type": "code",
   "execution_count": null,
   "metadata": {
    "collapsed": false
   },
   "outputs": [],
   "source": [
    "from sklearn.datasets import make_circles\n",
    "\n",
    "X, y = make_circles(n_samples=1000,\n",
    "                    noise=0.1,\n",
    "                    factor=0.3,\n",
    "                    random_state=0)\n",
    "\n",
    "plt.scatter(X[:,0], X[:,1], c=y, alpha=0.4)"
   ]
  },
  {
   "cell_type": "code",
   "execution_count": null,
   "metadata": {
    "collapsed": true
   },
   "outputs": [],
   "source": []
  },
  {
   "cell_type": "markdown",
   "metadata": {},
   "source": [
    "## Exercise 3:\n",
    "\n",
    "Try to find a model in scikit-learn that actually works on this datasets.\n",
    "\n",
    "- will any linear model work? (for example SGD or Perceptron)\n",
    "- what other models could you try?\n",
    "- plot the decision boundary as usual\n",
    "- compare your results with the person next to you"
   ]
  },
  {
   "cell_type": "code",
   "execution_count": null,
   "metadata": {
    "collapsed": false
   },
   "outputs": [],
   "source": []
  },
  {
   "cell_type": "markdown",
   "metadata": {},
   "source": [
    "## Exercise 4\n",
    "\n",
    "Open the [tensorflow playground](https://goo.gl/F5gncv) and try playing with parameters untill you get to a model that correctly separate the two classes.\n",
    "\n",
    "- try changing the number of nodes\n",
    "- try changing the number of hidden layers\n",
    "- try changing the input features\n",
    "- try changing the activation function\n",
    "- try changing the regularization rate\n",
    "\n",
    "Which changes make the model converge faster to a solution? Discuss with the person next to you."
   ]
  },
  {
   "cell_type": "code",
   "execution_count": null,
   "metadata": {
    "collapsed": true
   },
   "outputs": [],
   "source": []
  }
 ],
 "metadata": {
  "anaconda-cloud": {},
  "kernelspec": {
   "display_name": "Python 2",
   "language": "python",
   "name": "python2"
  },
  "language_info": {
   "codemirror_mode": {
    "name": "ipython",
    "version": 2
   },
   "file_extension": ".py",
   "mimetype": "text/x-python",
   "name": "python",
   "nbconvert_exporter": "python",
   "pygments_lexer": "ipython2",
   "version": "2.7.13"
  }
 },
 "nbformat": 4,
 "nbformat_minor": 1
}
