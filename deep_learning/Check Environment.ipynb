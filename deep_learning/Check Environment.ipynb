{
 "cells": [
  {
   "cell_type": "code",
   "execution_count": 1,
   "metadata": {},
   "outputs": [
    {
     "name": "stdout",
     "output_type": "stream",
     "text": [
      "Houston, we are go! :)\n"
     ]
    },
    {
     "name": "stderr",
     "output_type": "stream",
     "text": [
      "Using TensorFlow backend.\n"
     ]
    }
   ],
   "source": [
    "# this script just imports the packages\n",
    "# we need and checks the versions are correct\n",
    "\n",
    "import numpy\n",
    "import h5py\n",
    "import matplotlib\n",
    "import sklearn\n",
    "import pandas\n",
    "import scipy\n",
    "import tensorflow\n",
    "import keras\n",
    "\n",
    "assert(numpy.__version__ >= '1.12')\n",
    "assert(h5py.__version__ >= '2.6')\n",
    "assert(matplotlib.__version__ >= '2.0')\n",
    "assert(sklearn.__version__ >= '0.18')\n",
    "assert(pandas.__version__ >= '0.19')\n",
    "assert(scipy.__version__ >= '0.18')\n",
    "assert(tensorflow.__version__ >= '1.0')\n",
    "assert(keras.__version__ >= '1.2.2')\n",
    "\n",
    "print \"Houston, we are go! :)\""
   ]
  },
  {
   "cell_type": "code",
   "execution_count": null,
   "metadata": {},
   "outputs": [],
   "source": []
  }
 ],
 "metadata": {
  "kernelspec": {
   "display_name": "Python 2",
   "language": "python",
   "name": "python2"
  },
  "language_info": {
   "codemirror_mode": {
    "name": "ipython",
    "version": 2
   },
   "file_extension": ".py",
   "mimetype": "text/x-python",
   "name": "python",
   "nbconvert_exporter": "python",
   "pygments_lexer": "ipython2",
   "version": "2.7.10"
  }
 },
 "nbformat": 4,
 "nbformat_minor": 2
}
