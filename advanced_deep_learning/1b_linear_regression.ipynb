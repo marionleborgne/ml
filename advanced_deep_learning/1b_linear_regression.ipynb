{
 "cells": [
  {
   "cell_type": "markdown",
   "metadata": {},
   "source": [
    "# Linear regression\n",
    "\n",
    "Notebook inspired by https://github.com/aymericdamien/TensorFlow-Examples/"
   ]
  },
  {
   "cell_type": "markdown",
   "metadata": {
    "collapsed": false
   },
   "source": [
    "In this notebook we'll implement a linear regression with Tensorflow."
   ]
  },
  {
   "cell_type": "code",
   "execution_count": 1,
   "metadata": {
    "collapsed": true
   },
   "outputs": [],
   "source": [
    "import tensorflow as tf\n",
    "import numpy\n",
    "import matplotlib.pyplot as plt\n",
    "rng = numpy.random\n",
    "\n",
    "%matplotlib inline"
   ]
  },
  {
   "cell_type": "code",
   "execution_count": 41,
   "metadata": {
    "collapsed": true
   },
   "outputs": [],
   "source": [
    "# Training Data\n",
    "train_X = numpy.asarray([3.3,4.4,5.5,6.71,6.93,4.168,9.779,6.182,7.59,2.167,\n",
    "                         7.042,10.791,5.313,7.997,5.654,9.27,3.1])\n",
    "train_Y = numpy.asarray([1.7,2.76,2.09,3.19,1.694,1.573,3.366,2.596,2.53,1.221,\n",
    "                         2.827,3.465,1.65,2.904,2.42,2.94,1.3])\n",
    "n_samples = train_X.shape[0]"
   ]
  },
  {
   "cell_type": "code",
   "execution_count": 3,
   "metadata": {
    "collapsed": false
   },
   "outputs": [
    {
     "data": {
      "text/plain": [
       "[<matplotlib.lines.Line2D at 0x11bd6b250>]"
      ]
     },
     "execution_count": 3,
     "metadata": {},
     "output_type": "execute_result"
    },
    {
     "data": {
      "image/png": "[encoded data removed]",
      "text/plain": [
       "<matplotlib.figure.Figure at 0x11bcca250>"
      ]
     },
     "metadata": {},
     "output_type": "display_data"
    }
   ],
   "source": [
    "#Graphic display\n",
    "plt.plot(train_X, train_Y, 'ro', label='Original data')"
   ]
  },
  {
   "cell_type": "markdown",
   "metadata": {},
   "source": [
    "A linear regression is a model of type:\n",
    "\n",
    "    Y = X * W + b\n",
    "\n",
    "First we set some global parameters like the learning rate and the number of epochs we want to run"
   ]
  },
  {
   "cell_type": "code",
   "execution_count": 4,
   "metadata": {
    "collapsed": true
   },
   "outputs": [],
   "source": [
    "learning_rate = 0.001\n",
    "training_epochs = 1000"
   ]
  },
  {
   "cell_type": "markdown",
   "metadata": {},
   "source": [
    "## Exercise 1\n",
    "\n",
    "1. define input placeholders, assign them to variables named `X` and `Y`\n",
    "- define model variables W and b and assign them names `W` and `b`\n",
    "- construct a linear model of the form `pred = X * W + b`\n",
    "- define the cost as the mean of the squared error between `Y` and `pred`. You will need the function `tf.reduce_mean`"
   ]
  },
  {
   "cell_type": "code",
   "execution_count": 61,
   "metadata": {
    "collapsed": true
   },
   "outputs": [
    {
     "name": "stdout",
     "output_type": "stream",
     "text": [
      "Before reshape:\ntrain_X: (17,)\ntrain_Y: (17,)\nAfter reshape:\ntrain_X: (17, 1)\ntrain_Y: (17, 1)\n"
     ]
    }
   ],
   "source": [
    "# Training Data\n",
    "train_X = numpy.asarray([3.3,4.4,5.5,6.71,6.93,4.168,9.779,6.182,7.59,2.167,\n",
    "                         7.042,10.791,5.313,7.997,5.654,9.27,3.1])\n",
    "train_Y = numpy.asarray([1.7,2.76,2.09,3.19,1.694,1.573,3.366,2.596,2.53,1.221,\n",
    "                         2.827,3.465,1.65,2.904,2.42,2.94,1.3])\n",
    "n_samples = train_X.shape[0]\n",
    "print 'Before reshape:'\n",
    "print 'train_X:', train_X.shape\n",
    "print 'train_Y:', train_Y.shape\n",
    "\n",
    "# That's ok before reshape:\n",
    "# X = tf.placeholder(\"float\")\n",
    "# Y = tf.placeholder(\"float\")\n",
    "# \n",
    "# # Set model weights\n",
    "# W = tf.Variable(rng.randn(), name=\"weight\")\n",
    "# b = tf.Variable(rng.randn(), name=\"bias\")\n",
    "\n",
    "train_X = train_X.reshape((17,1))\n",
    "train_Y = train_Y.reshape((17,1))\n",
    "print 'After reshape:'\n",
    "print 'train_X:', train_X.shape\n",
    "print 'train_Y:', train_Y.shape\n",
    "\n",
    "X = tf.placeholder(tf.float32, [None, train_X.shape[1]])\n",
    "Y = tf.placeholder(tf.float32, [None, train_Y.shape[1]])\n",
    "W = tf.Variable(tf.zeros([train_X.shape[1], train_Y.shape[1]]))\n",
    "b = tf.Variable(tf.zeros([train_Y.shape[1]]))\n",
    "pred = tf.add(tf.matmul(X, W), b)\n",
    "\n",
    "\n",
    "# X = tf.placeholder(tf.float32, [None, 1])\n",
    "# Y = tf.placeholder(tf.float32, [None, 1])\n",
    "# W = tf.Variable(tf.zeros([1,1]))\n",
    "# b = tf.Variable(tf.zeros([1,1]))\n",
    "\n",
    "# Construct a linear model\n",
    "pred = tf.add(tf.multiply(X, W), b)\n",
    "\n",
    "# Mean squared error\n",
    "cost = tf.reduce_sum(tf.pow(pred-Y, 2))/(2*n_samples)"
   ]
  },
  {
   "cell_type": "markdown",
   "metadata": {},
   "source": [
    "## Optimizer"
   ]
  },
  {
   "cell_type": "code",
   "execution_count": 62,
   "metadata": {
    "collapsed": true
   },
   "outputs": [],
   "source": [
    "# Gradient descent\n",
    "optimizer = tf.train.GradientDescentOptimizer(learning_rate).minimize(cost)"
   ]
  },
  {
   "cell_type": "markdown",
   "metadata": {},
   "source": [
    "## Running the model"
   ]
  },
  {
   "cell_type": "code",
   "execution_count": 63,
   "metadata": {
    "collapsed": true
   },
   "outputs": [],
   "source": [
    "# Initializing the variables\n",
    "init = tf.global_variables_initializer()"
   ]
  },
  {
   "cell_type": "code",
   "execution_count": 64,
   "metadata": {
    "collapsed": false
   },
   "outputs": [
    {
     "name": "stdout",
     "output_type": "stream",
     "text": [
      "Epoch: 0050 cost= 0.140097708 W= [[ 0.32112804]] b= [ 0.04991483]\nEpoch: 0100 cost= 0.111053109 W= [[ 0.35241237]] b= [ 0.05891847]\nEpoch: 0150 cost= 0.110363066 W= [[ 0.3549476]] b= [ 0.06383924]\nEpoch: 0200 cost= 0.109956920 W= [[ 0.35463443]] b= [ 0.06833059]\nEpoch: 0250 cost= 0.109558389 W= [[ 0.35404214]] b= [ 0.07275515]\nEpoch: 0300 cost= 0.109164692 W= [[ 0.35342571]] b= [ 0.077149]\nEpoch: 0350 cost= 0.108775750 W= [[ 0.35281]] b= [ 0.08151584]\nEpoch: 0400 cost= 0.108391486 W= [[ 0.35219774]] b= [ 0.08585623]\nEpoch: 0450 cost= 0.108011879 W= [[ 0.35158929]] b= [ 0.09017034]\n"
     ]
    },
    {
     "name": "stdout",
     "output_type": "stream",
     "text": [
      "Epoch: 0500 cost= 0.107636854 W= [[ 0.35098442]] b= [ 0.09445833]\nEpoch: 0550 cost= 0.107266337 W= [[ 0.35038325]] b= [ 0.0987204]\nEpoch: 0600 cost= 0.106900297 W= [[ 0.34978575]] b= [ 0.10295667]\nEpoch: 0650 cost= 0.106538668 W= [[ 0.34919178]] b= [ 0.1071673]\nEpoch: 0700 cost= 0.106181391 W= [[ 0.34860149]] b= [ 0.11135245]\nEpoch: 0750 cost= 0.105828464 W= [[ 0.34801468]] b= [ 0.11551228]\nEpoch: 0800 cost= 0.105479777 W= [[ 0.34743151]] b= [ 0.11964694]\nEpoch: 0850 cost= 0.105135299 W= [[ 0.34685183]] b= [ 0.12375657]\nEpoch: 0900 cost= 0.104794957 W= [[ 0.3462756]] b= [ 0.12784132]\n"
     ]
    },
    {
     "name": "stdout",
     "output_type": "stream",
     "text": [
      "Epoch: 0950 cost= 0.104458734 W= [[ 0.34570301]] b= [ 0.1319014]\nEpoch: 1000 cost= 0.104126573 W= [[ 0.34513378]] b= [ 0.13593687]\nOptimization Finished!\nTraining cost= 0.104127 W= [[ 0.34513378]] b= [ 0.13593687] \n\n"
     ]
    },
    {
     "data": {
      "image/png": "[encoded data removed]",
      "text/plain": [
       "<matplotlib.figure.Figure at 0x11dc74ed0>"
      ]
     },
     "metadata": {},
     "output_type": "display_data"
    }
   ],
   "source": [
    "# Launch the graph\n",
    "with tf.Session() as sess:\n",
    "    sess.run(init)\n",
    "\n",
    "    # Fit all training data\n",
    "    for epoch in range(training_epochs):\n",
    "\n",
    "        sess.run(optimizer, feed_dict={X: train_X, Y: train_Y})\n",
    "\n",
    "        #Display logs per epoch step\n",
    "        if (epoch+1) % 50 == 0:\n",
    "            c = sess.run(cost, feed_dict={X: train_X, Y:train_Y})\n",
    "            print \"Epoch:\", '%04d' % (epoch+1), \"cost=\", \"{:.9f}\".format(c), \\\n",
    "                \"W=\", sess.run(W), \"b=\", sess.run(b)\n",
    "\n",
    "    print \"Optimization Finished!\"\n",
    "    training_cost = sess.run(cost, feed_dict={X: train_X, Y: train_Y})\n",
    "    print \"Training cost=\", training_cost, \"W=\", sess.run(W), \"b=\", sess.run(b), '\\n'\n",
    "\n",
    "    #Graphic display\n",
    "    plt.plot(train_X, train_Y, 'ro', label='Original data')\n",
    "    plt.plot(train_X, sess.run(W) * train_X + sess.run(b), label='Fitted line')\n",
    "    plt.legend()\n",
    "    plt.show()"
   ]
  },
  {
   "cell_type": "markdown",
   "metadata": {
    "collapsed": false
   },
   "source": [
    "## Exercise 2:\n",
    "\n",
    "1. Try to change the learning rate. what happens?\n",
    "- Try using a different optimizer. what happens?"
   ]
  },
  {
   "cell_type": "code",
   "execution_count": null,
   "metadata": {
    "collapsed": true
   },
   "outputs": [],
   "source": [
    ""
   ]
  }
 ],
 "metadata": {
  "anaconda-cloud": {},
  "kernelspec": {
   "display_name": "Python 2",
   "language": "python",
   "name": "python2"
  },
  "language_info": {
   "codemirror_mode": {
    "name": "ipython",
    "version": 2.0
   },
   "file_extension": ".py",
   "mimetype": "text/x-python",
   "name": "python",
   "nbconvert_exporter": "python",
   "pygments_lexer": "ipython2",
   "version": "2.7.13"
  }
 },
 "nbformat": 4,
 "nbformat_minor": 0
}