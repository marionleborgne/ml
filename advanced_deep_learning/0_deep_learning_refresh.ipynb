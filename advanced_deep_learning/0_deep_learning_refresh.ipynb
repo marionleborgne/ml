{
 "cells": [
  {
   "cell_type": "code",
   "execution_count": 2,
   "metadata": {
    "collapsed": false
   },
   "outputs": [
    {
     "name": "stderr",
     "output_type": "stream",
     "text": [
      "Using TensorFlow backend.\n"
     ]
    }
   ],
   "source": [
    "from keras.datasets import mnist\n",
    "from keras.models import Sequential\n",
    "from keras.layers.core import Dense, Activation\n",
    "from keras.optimizers import SGD\n",
    "from keras.utils import np_utils\n",
    "\n",
    "import numpy as np\n",
    "%matplotlib inline\n",
    "import matplotlib.pyplot as plt"
   ]
  },
  {
   "cell_type": "code",
   "execution_count": 27,
   "metadata": {
    "collapsed": true
   },
   "outputs": [
    {
     "name": "stdout",
     "output_type": "stream",
     "text": [
      "(60000, 28, 28)\n(10000, 28, 28)\n(60000,)\n(10000,)\n"
     ]
    }
   ],
   "source": [
    "(X_train, y_train), (X_test, y_test) = mnist.load_data()\n",
    "print X_train.shape\n",
    "print X_test.shape\n",
    "print y_train.shape\n",
    "print y_test.shape"
   ]
  },
  {
   "cell_type": "code",
   "execution_count": 28,
   "metadata": {
    "collapsed": false
   },
   "outputs": [
    {
     "name": "stdout",
     "output_type": "stream",
     "text": [
      "(60000, 784)\n(10000, 784)\n(60000, 10)\n(10000, 10)\n"
     ]
    }
   ],
   "source": [
    "X_train = X_train.reshape(60000, 784)\n",
    "X_test = X_test.reshape(10000, 784)\n",
    "X_train = X_train.astype('float32')\n",
    "X_test = X_test.astype('float32')\n",
    "X_train /= 255\n",
    "X_test /= 255\n",
    "\n",
    "y_train = np_utils.to_categorical(y_train, 10)\n",
    "y_test = np_utils.to_categorical(y_test, 10)\n",
    "\n",
    "print(X_train.shape)\n",
    "print(X_test.shape)\n",
    "print(y_train.shape)\n",
    "print(y_test.shape)"
   ]
  },
  {
   "cell_type": "code",
   "execution_count": 6,
   "metadata": {
    "collapsed": false
   },
   "outputs": [
    {
     "data": {
      "image/png": "[encoded data removed]",
      "text/plain": [
       "<matplotlib.figure.Figure at 0x1166e4590>"
      ]
     },
     "metadata": {},
     "output_type": "display_data"
    }
   ],
   "source": [
    "for i in xrange(1, 5):\n",
    "    plt.subplot(1, 4, i)\n",
    "    plt.imshow(X_train[i].reshape(28, 28), cmap='Greys')\n",
    "    plt.title(np.argmax(y_train[i]))"
   ]
  },
  {
   "cell_type": "code",
   "execution_count": 11,
   "metadata": {
    "collapsed": false
   },
   "outputs": [
    {
     "name": "stdout",
     "output_type": "stream",
     "text": [
      "('Test score:', 0.059866017194371672)\n('Test accuracy:', 0.98009999999999997)\n"
     ]
    }
   ],
   "source": [
    "model = Sequential()\n",
    "model.add(Dense(512, input_dim=784, activation='relu'))\n",
    "model.add(Dense(10, activation='softmax'))\n",
    "model.compile(loss='categorical_crossentropy',\n",
    "              optimizer=SGD(0.5),\n",
    "              metrics=['accuracy'])\n",
    "\n",
    "model.fit(X_train, y_train, batch_size=128,\n",
    "          nb_epoch=10, verbose=0,\n",
    "          validation_split=0.1)\n",
    "\n",
    "# Final test evaluation\n",
    "score = model.evaluate(X_test, y_test, verbose=0)\n",
    "print('Test score:', score[0])\n",
    "print('Test accuracy:', score[1])"
   ]
  },
  {
   "cell_type": "markdown",
   "metadata": {},
   "source": [
    "## Exercise 1: Keras functional API\n",
    "\n",
    "We'e built a model using the `Sequential API` from Keras. Keras also offers a [functional API](https://keras.io/getting-started/functional-api-guide/). This API is the way to go for defining complex models, such as multi-output models, directed acyclic graphs, or models with shared layers.\n",
    "\n",
    "Can you rewrite the model above using the functional API?"
   ]
  },
  {
   "cell_type": "code",
   "execution_count": 10,
   "metadata": {
    "collapsed": true
   },
   "outputs": [
    {
     "name": "stdout",
     "output_type": "stream",
     "text": [
      "('Test score:', 0.060429253705905288)\n('Test accuracy:', 0.98160000000000003)\n"
     ]
    }
   ],
   "source": [
    "from keras.layers import Input, Dense\n",
    "from keras.models import Model\n",
    "\n",
    "\n",
    "inputs = Input(shape=(784,))\n",
    "x = Dense(512, activation='relu')(inputs)\n",
    "predictions = Dense(10, activation='softmax')(x)\n",
    "model = Model(input=inputs, output=predictions)\n",
    "\n",
    "\n",
    "# Train\n",
    "model.compile(loss='categorical_crossentropy',\n",
    "              optimizer=SGD(0.5),\n",
    "              metrics=['accuracy'])\n",
    "\n",
    "model.fit(X_train, y_train, batch_size=128,\n",
    "          nb_epoch=10, verbose=0,\n",
    "          validation_split=0.1)\n",
    "\n",
    "# Final test evaluation\n",
    "score = model.evaluate(X_test, y_test, verbose=0)\n",
    "print('Test score:', score[0])\n",
    "print('Test accuracy:', score[1])"
   ]
  },
  {
   "cell_type": "markdown",
   "metadata": {},
   "source": [
    "## Exercise 2: Convolutional Recap\n",
    "\n",
    "The above model is a very simple fully connected deep neural network. As we have seen, Convolutional Neural Networks are much more powerful when dealing with images. Below we've written a simple CNN model. In order to pass the data to this model the data needs to be reshaped as a 4D tensor.\n",
    "\n",
    "As we will soon see, Tensorflow requires 4D tensors with this shape:\n",
    "\n",
    "    N_images x Height x Width x Channels\n",
    "    \n",
    "1. Can you reshape X_train and X_test so that they have the correct shape?\n",
    "2. Can you write a convolutional model using the sequential API?\n",
    "3. Can you rewrite it using the functional API?"
   ]
  },
  {
   "cell_type": "code",
   "execution_count": 29,
   "metadata": {
    "collapsed": true
   },
   "outputs": [],
   "source": [
    "# put your reshape code here\n",
    "\n",
    "# original shapes:\n",
    "# X_train = (60000, 28, 28)\n",
    "# X_test = (10000, 28, 28)\n",
    "# y_train = (60000,)\n",
    "# y_test = (10000,)\n",
    "\n",
    "X_train = X_train.reshape(60000, 28, 28, 1)\n",
    "X_test = X_test.reshape(10000, 28, 28, 1)"
   ]
  },
  {
   "cell_type": "code",
   "execution_count": 30,
   "metadata": {
    "collapsed": false
   },
   "outputs": [
    {
     "data": {
      "text/plain": [
       "(60000, 28, 28, 1)"
      ]
     },
     "execution_count": 30,
     "metadata": {},
     "output_type": "execute_result"
    }
   ],
   "source": [
    "# it should be (60000, 28, 28, 1)\n",
    "X_train.shape"
   ]
  },
  {
   "cell_type": "code",
   "execution_count": 47,
   "metadata": {
    "collapsed": false
   },
   "outputs": [
    {
     "name": "stdout",
     "output_type": "stream",
     "text": [
      "1st CNN layer (None, 28, 28, 10)\nFlattened CNN layer (None, 1960)\n"
     ]
    },
    {
     "name": "stdout",
     "output_type": "stream",
     "text": [
      "____________________________________________________________________________________________________\nLayer (type)                     Output Shape          Param #     Connected to                     \n====================================================================================================\nconvolution2d_19 (Convolution2D) (None, 28, 28, 10)    100         convolution2d_input_7[0][0]      \n____________________________________________________________________________________________________\nmaxpooling2d_20 (MaxPooling2D)   (None, 14, 14, 10)    0           convolution2d_19[0][0]           \n____________________________________________________________________________________________________\nflatten_15 (Flatten)             (None, 1960)          0           maxpooling2d_20[0][0]            \n____________________________________________________________________________________________________\ndense_39 (Dense)                 (None, 100)           196100      flatten_15[0][0]                 \n____________________________________________________________________________________________________\nactivation_11 (Activation)       (None, 100)           0           dense_39[0][0]                   \n____________________________________________________________________________________________________\ndropout_15 (Dropout)             (None, 100)           0           activation_11[0][0]              \n____________________________________________________________________________________________________\ndense_40 (Dense)                 (None, 10)            1010        dropout_15[0][0]                 \n____________________________________________________________________________________________________\nactivation_12 (Activation)       (None, 10)            0           dense_40[0][0]                   \n====================================================================================================\nTotal params: 197,210\nTrainable params: 197,210\nNon-trainable params: 0\n____________________________________________________________________________________________________\n"
     ]
    },
    {
     "name": "stdout",
     "output_type": "stream",
     "text": [
      "Train on 48000 samples, validate on 12000 samples\nEpoch 1/10\n"
     ]
    },
    {
     "name": "stdout",
     "output_type": "stream",
     "text": [
      "8s - loss: 0.2896 - acc: 0.9126 - val_loss: 0.1216 - val_acc: 0.9647\nEpoch 2/10\n"
     ]
    },
    {
     "name": "stdout",
     "output_type": "stream",
     "text": [
      "9s - loss: 0.1285 - acc: 0.9615 - val_loss: 0.0901 - val_acc: 0.9758\nEpoch 3/10\n"
     ]
    },
    {
     "name": "stdout",
     "output_type": "stream",
     "text": [
      "8s - loss: 0.0920 - acc: 0.9727 - val_loss: 0.1038 - val_acc: 0.9683\nEpoch 4/10\n"
     ]
    },
    {
     "name": "stdout",
     "output_type": "stream",
     "text": [
      "8s - loss: 0.0725 - acc: 0.9780 - val_loss: 0.0720 - val_acc: 0.9804\nEpoch 5/10\n"
     ]
    },
    {
     "name": "stdout",
     "output_type": "stream",
     "text": [
      "8s - loss: 0.0647 - acc: 0.9802 - val_loss: 0.0723 - val_acc: 0.9796\nEpoch 6/10\n"
     ]
    },
    {
     "name": "stdout",
     "output_type": "stream",
     "text": [
      "9s - loss: 0.0555 - acc: 0.9826 - val_loss: 0.0723 - val_acc: 0.9809\nEpoch 7/10\n"
     ]
    },
    {
     "name": "stdout",
     "output_type": "stream",
     "text": [
      "9s - loss: 0.0508 - acc: 0.9847 - val_loss: 0.0676 - val_acc: 0.9805\nEpoch 8/10\n"
     ]
    },
    {
     "name": "stdout",
     "output_type": "stream",
     "text": [
      "9s - loss: 0.0463 - acc: 0.9863 - val_loss: 0.0767 - val_acc: 0.9824\nEpoch 9/10\n"
     ]
    },
    {
     "name": "stdout",
     "output_type": "stream",
     "text": [
      "9s - loss: 0.0446 - acc: 0.9865 - val_loss: 0.0744 - val_acc: 0.9832\nEpoch 10/10\n"
     ]
    },
    {
     "name": "stdout",
     "output_type": "stream",
     "text": [
      "9s - loss: 0.0406 - acc: 0.9870 - val_loss: 0.0758 - val_acc: 0.9828\n"
     ]
    },
    {
     "name": "stdout",
     "output_type": "stream",
     "text": [
      "('Test score:', 0.07281535737511477)\n('Test accuracy:', 0.98229999999999995)\n"
     ]
    }
   ],
   "source": [
    "from keras.layers.core import Dense, Dropout, Activation\n",
    "from keras.layers import Convolution2D, MaxPooling2D, Flatten\n",
    "\n",
    "# Design a CNN using the sequential API\n",
    "model = Sequential()\n",
    "\n",
    "# 3x3 convolution on top, with 10  filters:\n",
    "model.add(Convolution2D(10, 3, 3, border_mode='same', input_shape=(28, 28, 1)))  # tf ordering\n",
    "print '1st CNN layer', model.output_shape\n",
    "\n",
    "model.add(MaxPooling2D())\n",
    "\n",
    "# 3x3 convolution on top, with 32 output filters:\n",
    "#model.add(Convolution2D(32, 3, 3, border_mode='same'))\n",
    "#print '2nd CNN layer', model.output_shape\n",
    "#model.add(MaxPooling2D())\n",
    "\n",
    "model.add(Flatten())\n",
    "print 'Flattened CNN layer', model.output_shape\n",
    "\n",
    "model.add(Dense(100))\n",
    "model.add(Activation('relu'))\n",
    "\n",
    "model.add(Dropout(0.2))\n",
    "model.add(Dense(10))\n",
    "model.add(Activation('softmax'))\n",
    "\n",
    "model.compile(loss='categorical_crossentropy',\n",
    "              optimizer='rmsprop',\n",
    "              metrics=['accuracy'])\n",
    "\n",
    "model.summary()\n",
    "\n",
    "\n",
    "# Fit your model\n",
    "hist = model.fit(X_train, y_train, validation_split=0.2, nb_epoch=10, batch_size=32, verbose=2)  #\n",
    "\n",
    "# Final test evaluation\n",
    "score = model.evaluate(X_test, y_test, verbose=0)\n",
    "print('Test score:', score[0])\n",
    "print('Test accuracy:', score[1])"
   ]
  },
  {
   "cell_type": "code",
   "execution_count": 46,
   "metadata": {
    "collapsed": true
   },
   "outputs": [
    {
     "name": "stdout",
     "output_type": "stream",
     "text": [
      "____________________________________________________________________________________________________\nLayer (type)                     Output Shape          Param #     Connected to                     \n====================================================================================================\ninput_11 (InputLayer)            (None, 28, 28, 1)     0                                            \n____________________________________________________________________________________________________\nconvolution2d_18 (Convolution2D) (None, 28, 28, 10)    100         input_11[0][0]                   \n____________________________________________________________________________________________________\nmaxpooling2d_19 (MaxPooling2D)   (None, 14, 14, 10)    0           convolution2d_18[0][0]           \n____________________________________________________________________________________________________\nflatten_14 (Flatten)             (None, 1960)          0           maxpooling2d_19[0][0]            \n____________________________________________________________________________________________________\ndense_37 (Dense)                 (None, 100)           196100      flatten_14[0][0]                 \n____________________________________________________________________________________________________\ndropout_14 (Dropout)             (None, 100)           0           dense_37[0][0]                   \n____________________________________________________________________________________________________\ndense_38 (Dense)                 (None, 10)            1010        dropout_14[0][0]                 \n====================================================================================================\nTotal params: 197,210\nTrainable params: 197,210\nNon-trainable params: 0\n____________________________________________________________________________________________________\n"
     ]
    },
    {
     "name": "stdout",
     "output_type": "stream",
     "text": [
      "Train on 48000 samples, validate on 12000 samples\nEpoch 1/10\n"
     ]
    },
    {
     "name": "stdout",
     "output_type": "stream",
     "text": [
      "9s - loss: 0.2782 - acc: 0.9156 - val_loss: 0.1201 - val_acc: 0.9658\nEpoch 2/10\n"
     ]
    },
    {
     "name": "stdout",
     "output_type": "stream",
     "text": [
      "9s - loss: 0.1240 - acc: 0.9628 - val_loss: 0.0859 - val_acc: 0.9757\nEpoch 3/10\n"
     ]
    },
    {
     "name": "stdout",
     "output_type": "stream",
     "text": [
      "9s - loss: 0.0917 - acc: 0.9720 - val_loss: 0.0761 - val_acc: 0.9781\nEpoch 4/10\n"
     ]
    },
    {
     "name": "stdout",
     "output_type": "stream",
     "text": [
      "9s - loss: 0.0726 - acc: 0.9785 - val_loss: 0.0777 - val_acc: 0.9793\nEpoch 5/10\n"
     ]
    },
    {
     "name": "stdout",
     "output_type": "stream",
     "text": [
      "9s - loss: 0.0616 - acc: 0.9810 - val_loss: 0.0742 - val_acc: 0.9804\nEpoch 6/10\n"
     ]
    },
    {
     "name": "stdout",
     "output_type": "stream",
     "text": [
      "9s - loss: 0.0549 - acc: 0.9837 - val_loss: 0.0737 - val_acc: 0.9816\nEpoch 7/10\n"
     ]
    },
    {
     "name": "stdout",
     "output_type": "stream",
     "text": [
      "9s - loss: 0.0504 - acc: 0.9839 - val_loss: 0.0764 - val_acc: 0.9797\nEpoch 8/10\n"
     ]
    },
    {
     "name": "stdout",
     "output_type": "stream",
     "text": [
      "9s - loss: 0.0445 - acc: 0.9865 - val_loss: 0.0745 - val_acc: 0.9815\nEpoch 9/10\n"
     ]
    },
    {
     "name": "stdout",
     "output_type": "stream",
     "text": [
      "9s - loss: 0.0408 - acc: 0.9872 - val_loss: 0.0722 - val_acc: 0.9826\nEpoch 10/10\n"
     ]
    },
    {
     "name": "stdout",
     "output_type": "stream",
     "text": [
      "9s - loss: 0.0390 - acc: 0.9883 - val_loss: 0.0757 - val_acc: 0.9832\n"
     ]
    },
    {
     "name": "stdout",
     "output_type": "stream",
     "text": [
      "('Test score:', 0.073289981025282946)\n('Test accuracy:', 0.98180000000000001)\n"
     ]
    }
   ],
   "source": [
    "# rewrite the above model using the functional API\n",
    "\n",
    "input = Input(shape=(28, 28, 1))\n",
    "conv = Convolution2D(10, 3, 3, border_mode='same')(input)\n",
    "pool = MaxPooling2D()(conv)\n",
    "flatten = Flatten()(pool)\n",
    "d = Dense(100, activation='relu')(flatten)\n",
    "drop = Dropout(0.2)(d)\n",
    "predictions = Dense(10, activation='softmax')(drop)\n",
    "model = Model(input=input, output=predictions)\n",
    "\n",
    "model.summary()\n",
    "\n",
    "\n",
    "model.compile(loss='categorical_crossentropy',\n",
    "              optimizer='rmsprop',\n",
    "              metrics=['accuracy'])\n",
    "\n",
    "\n",
    "# Fit your model\n",
    "hist = model.fit(X_train, y_train, validation_split=0.2, \n",
    "                 nb_epoch=10, batch_size=32, verbose=2)  \n",
    "\n",
    "# Final test evaluation\n",
    "score = model.evaluate(X_test, y_test, verbose=0)\n",
    "print('Test score:', score[0])\n",
    "print('Test accuracy:', score[1])"
   ]
  },
  {
   "cell_type": "markdown",
   "metadata": {},
   "source": [
    "## Exrcise 3: Discuss with the person next to you \n",
    "\n",
    "1. What are the pros/cons of the sequential API?\n",
    "- What are the pros/cons of the functional API?\n",
    "- What are the key differences between a Fully connected and a Convolutional neural network?\n",
    "- What is a dropout layer? How does it work? Why does it help?\n",
    "\n",
    "\n",
    "Answer:\n",
    "* With the functional API you can branch out and combine the outputs, or skip layers, etc. See the Inception architecture for example."
   ]
  }
 ],
 "metadata": {
  "anaconda-cloud": {},
  "kernelspec": {
   "display_name": "Python 2",
   "language": "python",
   "name": "python2"
  },
  "language_info": {
   "codemirror_mode": {
    "name": "ipython",
    "version": 2.0
   },
   "file_extension": ".py",
   "mimetype": "text/x-python",
   "name": "python",
   "nbconvert_exporter": "python",
   "pygments_lexer": "ipython2",
   "version": "2.7.10"
  }
 },
 "nbformat": 4,
 "nbformat_minor": 0
}